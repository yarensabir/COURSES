{
  "nbformat": 4,
  "nbformat_minor": 0,
  "metadata": {
    "colab": {
      "provenance": []
    },
    "kernelspec": {
      "name": "python3",
      "display_name": "Python 3"
    },
    "language_info": {
      "name": "python"
    }
  },
  "cells": [
    {
      "cell_type": "markdown",
      "source": [
        "# VERİ MANİPÜLASYONU 101\n",
        "\n",
        "### *NUMPY\n",
        "\n",
        "daha çok lineer cebirde düşün"
      ],
      "metadata": {
        "id": "Rde4yYYvd3mJ"
      }
    },
    {
      "cell_type": "markdown",
      "source": [
        "veri manipülasyonu %80\n",
        "\n",
        "modelleme %20\n",
        "\n",
        "numerical python\n",
        "\n",
        "listelere benzer ama verimli veri saklama ve vektörel operasyonu var"
      ],
      "metadata": {
        "id": "5OOSX1AkebWZ"
      }
    },
    {
      "cell_type": "markdown",
      "source": [
        "*listeler, içerisindeki her verinin tipini tutarken (çünkü içerisinde farklı türden veriler bulundurabilir) numpy tek tip veri tutar"
      ],
      "metadata": {
        "id": "0uD-YiWeLmCb"
      }
    },
    {
      "cell_type": "markdown",
      "source": [
        "### *OLUŞTURMA VE BİÇİMLENDİRME İŞLEMLERİ"
      ],
      "metadata": {
        "id": "YGmOiqyXQlua"
      }
    },
    {
      "cell_type": "code",
      "source": [
        "import numpy as np"
      ],
      "metadata": {
        "id": "4wATbEDUeav7"
      },
      "execution_count": null,
      "outputs": []
    },
    {
      "cell_type": "code",
      "source": [
        "#numpy array oluşturma\n",
        "a = np.array([1,2,3,4,5])\n",
        "type(a)"
      ],
      "metadata": {
        "id": "kCUZ83TqeDm8"
      },
      "execution_count": null,
      "outputs": []
    },
    {
      "cell_type": "code",
      "source": [
        "np.array([3.14, 4, 2 , 13]) #hepsini float kabul eder\n",
        "np.array([3.14, 4, 2 , 13], dtype = \"int\")"
      ],
      "metadata": {
        "id": "PUVLJ-y-OQlh"
      },
      "execution_count": null,
      "outputs": []
    },
    {
      "cell_type": "code",
      "source": [
        "#sıfırdan array oluşturma\n",
        "np.zeros(10, dtype = int)\n",
        "np.ones((3,5), dtype = int)\n",
        "np.full((3,5), 3) # 3 e 5 lik 3 lerden oluşan matris\n",
        "np.arange(0, 31, 3) # 0 dan 31 e kadar üçer üçer artan vektör\n",
        "np.linspace(0,1,10) # 0 ve 1  arasında 10 değer oluştur\n",
        "np.random.normal(10,4, (3,4)) #ortalaması 10 standart sapması 4 olan 3 e 4 lük matris\n",
        "np.random.randint(0,10, (3,3)) # 0 - 10 arası üçe üçlük matris"
      ],
      "metadata": {
        "id": "IlkGXe5fhG2K"
      },
      "execution_count": null,
      "outputs": []
    },
    {
      "cell_type": "code",
      "source": [
        "a = np.random.randint(10, size = 10)\n",
        "a.ndim #boyut sayısı\n",
        "a.shape #boyut bilgisi\n",
        "a.size #toplam eleman sayısıhttps://gelecegiyazanlar.turkcell.com.tr/kisi/belge/download/82765\n",
        "a.dtype\n",
        "\n",
        "b = np.random.randint(10, size = (3,5))"
      ],
      "metadata": {
        "id": "bv0-lW17jITW"
      },
      "execution_count": null,
      "outputs": []
    },
    {
      "cell_type": "code",
      "source": [
        "#reshaping\n",
        "\n",
        "array = np.arange(1,10)\n",
        "array.reshape((3,3))\n",
        "\n",
        "a = np.arange(1,10)\n",
        "a.ndim\n",
        "\n",
        "b = a.reshape((1,9))\n",
        "b.ndim"
      ],
      "metadata": {
        "id": "J-41duxFDump"
      },
      "execution_count": null,
      "outputs": []
    },
    {
      "cell_type": "code",
      "source": [
        "#concatanation\n",
        "#tek boyut\n",
        "x = np.array([1,2,3])\n",
        "y = np.array([4,5,6])\n",
        "\n",
        "np.concatenate([x, y])\n",
        "\n",
        "z = np.array([7,8,9])\n",
        "\n",
        "np.concatenate([x, y, z])\n",
        "\n",
        "#iki boyut\n",
        "a = np.array([1,2,3],\n",
        "             [4,5,6])\n",
        "\n",
        "np.concatenate([a,a], axis = 0) #satır bazında birleştirme\n",
        "np.concatenate([a,a], axis = 1) #sütun bazında birleştirme"
      ],
      "metadata": {
        "id": "Vb_otXw7F7Cs"
      },
      "execution_count": null,
      "outputs": []
    },
    {
      "cell_type": "code",
      "source": [
        "#splitting\n",
        "#yapısı bilinen arrayler\n",
        "x = [1, 2, 3, 99, 99, 3, 2, 1]\n",
        "\n",
        "np.split(x, [3,5]) #3'e kadar bir böl, sonra da 5'den sonra bir böl\n",
        "#n parametre verdiysek n+1 parça elde ediyoruz\n",
        "a,b,c = np.split(x, [3,5])\n",
        "\n",
        "m = np.arange(16).reshape(4,4)\n",
        "np.vsplit(m, [2])\n",
        "np.hsplit(m, [2])"
      ],
      "metadata": {
        "id": "PIfzHk6uHYXI"
      },
      "execution_count": null,
      "outputs": []
    },
    {
      "cell_type": "code",
      "source": [
        "#sorting\n",
        "v = np.array([2,6,3,8,1,9])\n",
        "v1 = np.sort(v)\n",
        "#sort numpy içerisinden çağırıldığında verinin oijinal yapısını bozmaz\n",
        "#yani tekrar bir atama yapılması gerekir\n",
        "v.sort() #bu sıralama biçiminde v değişkenini sıralanmış olarak değişir\n",
        "\n",
        "\n",
        "#iki boyutlu arrayde sıralama\n",
        "\n",
        "np.random.normal(20,5,(3,3))\n",
        "np.sort(m, axis=1)"
      ],
      "metadata": {
        "id": "TQSLDK_6Knny"
      },
      "execution_count": null,
      "outputs": []
    },
    {
      "cell_type": "markdown",
      "source": [
        ":..:..:..:..:..:..:..:..:..:..:..:..:..:..:..:..:..:..:..:..:..:..:..:..:..:..:..:..:..:..:..:..:..:..:..:..:..:..:..:..:..:..:..:..:..:..:..:..:..:..:..:..:..:..:..:..:..:..:..:..:..:..:..:..:..:.."
      ],
      "metadata": {
        "id": "uvTAz05FNIWp"
      }
    },
    {
      "cell_type": "markdown",
      "source": [
        "### *ELEMAN İŞLEMLERİ"
      ],
      "metadata": {
        "id": "6JS0oAfNQ8G3"
      }
    },
    {
      "cell_type": "code",
      "source": [
        "#index ile elemanlara erişme\n",
        "\n",
        "a = np.random.randint(10,size=10)\n",
        "a[0]\n",
        "a[-1]"
      ],
      "metadata": {
        "id": "KDtIUqTnQIKO"
      },
      "execution_count": null,
      "outputs": []
    },
    {
      "cell_type": "code",
      "source": [
        "#alt küme işlemleri\n",
        "\n",
        "a = np.arange(20,30)\n",
        "#slicing\n",
        "a[0:3]\n",
        "a[:3]\n",
        "a[3:]\n",
        "a[1::2] #1.indeksten başla, ikişer art\n",
        "\n",
        "m = np.random.randint(10, size = (5,5))\n",
        "m[:,0] # sıfırıncı sütuna eriştik\n",
        "m[1,:] # birinci satıra erişim sağlandı\n",
        "# m[1,:] == m[1]\n",
        "m[1:3, 0:2]"
      ],
      "metadata": {
        "id": "7YuhDBhMSZkZ"
      },
      "execution_count": null,
      "outputs": []
    },
    {
      "cell_type": "code",
      "source": [
        "#alt küme üzerinde işlem yapmak\n",
        "#alt kümeleri bağımsızlaştırma\n",
        "\n",
        "m = np.random.randint(10, size = (5,5))\n",
        "alt_m = m[0:3, 0:2] # bu küme ana kümeye bağımlı, yapılan değişiklik ana kümeyi etkiler\n",
        "alt_m_cp = m[0:3, 0:2].copy() #bu alt küme ana kümeden bağımsız"
      ],
      "metadata": {
        "id": "USyEkElOUJ_A"
      },
      "execution_count": null,
      "outputs": []
    },
    {
      "cell_type": "code",
      "source": [
        "#fancy index ile elemanlara erişme\n",
        "\n",
        "v = np.arange(0,30,3)\n",
        "[v[1],v[3],v[5]]\n",
        "\n",
        "al_getir = [1,3,5] #fancy index\n",
        "v[al_getir]\n",
        "\n",
        "m = np.arange(9).reshape((3,3))\n",
        "satir = np.array([0,1])\n",
        "sutun = np.array([1,2])\n",
        "m[satir, sutun]"
      ],
      "metadata": {
        "id": "TbjvhG2qUuyJ"
      },
      "execution_count": null,
      "outputs": []
    },
    {
      "cell_type": "code",
      "source": [
        "#koşullu eleman işlemleri\n",
        "#arkaplanda fancy index işler\n",
        "\n",
        "v = np.array([1,2,3,4,5])"
      ],
      "metadata": {
        "id": "dCcsSek3ZK3K"
      },
      "execution_count": null,
      "outputs": []
    },
    {
      "cell_type": "code",
      "source": [
        "v > 3"
      ],
      "metadata": {
        "id": "2vNBCxAoZb3z"
      },
      "execution_count": null,
      "outputs": []
    },
    {
      "cell_type": "code",
      "source": [
        "v[v<3]"
      ],
      "metadata": {
        "id": "JgheecRmZgez"
      },
      "execution_count": null,
      "outputs": []
    },
    {
      "cell_type": "code",
      "source": [
        "v*2\n",
        "v/5\n",
        "v*5/10\n",
        "v**2"
      ],
      "metadata": {
        "id": "7nSP1PVEZ9PW"
      },
      "execution_count": null,
      "outputs": []
    },
    {
      "cell_type": "markdown",
      "source": [
        "### *MATERMATİKSEL İŞLEMLER"
      ],
      "metadata": {
        "id": "1SAv_W4PaKZ-"
      }
    },
    {
      "cell_type": "code",
      "source": [
        "v = np.array([1,2,3,4,5])"
      ],
      "metadata": {
        "id": "IM9sj77waT8S"
      },
      "execution_count": null,
      "outputs": []
    },
    {
      "cell_type": "code",
      "source": [
        "#ufunc\n",
        "#operatörler ile yapılan işlemler arkaplanda aşağıdaki fonksiyonları kullanıyor\n",
        "\n",
        "np.subtract(v,1)\n",
        "np.add(v,1)\n",
        "np.multiply()\n",
        "np.divide()\n",
        "np.power()\n",
        "np.mod()\n",
        "np.absolute()\n",
        "np.sin()\n",
        "np.cos()\n",
        "v = np.array([1,2,3])\n",
        "np.log(v)\n",
        "np.log2(v) #log 2 tabanında\n",
        "np.log10(v)"
      ],
      "metadata": {
        "id": "3rtK9oUsNcHc"
      },
      "execution_count": null,
      "outputs": []
    },
    {
      "cell_type": "code",
      "source": [
        "#numpy ana dokümantasyonu\n",
        "?np\n",
        "\n",
        "# https://www.dataquest.io/blog/numpy-cheat-sheet/"
      ],
      "metadata": {
        "id": "YSkbK6ahOdlj"
      },
      "execution_count": null,
      "outputs": []
    },
    {
      "cell_type": "code",
      "source": [
        "#iki bilinmeyenli denklem çözme\n",
        "#5*x0 + x1 = 12  [5,1]\n",
        "#x0 + 3*x1 = 10  [1,3]\n",
        "\n",
        "a = np.array([[5,1],[1,3]])\n",
        "b = np.array([12,10])\n",
        "\n",
        "x = np.linalg.solve(a,b)"
      ],
      "metadata": {
        "id": "N07nfOkfQBnS"
      },
      "execution_count": null,
      "outputs": []
    },
    {
      "cell_type": "code",
      "source": [
        "x"
      ],
      "metadata": {
        "id": "xOjjDXxZRTG8"
      },
      "execution_count": null,
      "outputs": []
    },
    {
      "cell_type": "markdown",
      "source": [
        ":..:..:..:..:..:..:..:..:..:..:..:..:..:..:..:..:..:..:..:..:..:..:..:..:..:..:..:..:..:..:..:..:..:..:..:..:..:..:..:..:..:..:..:..:..:..:..:..:..:..:..:..:..:..:..:..:..:..:..:..:..:..:..:..:..:.."
      ],
      "metadata": {
        "id": "RvUY1j0TVwDO"
      }
    },
    {
      "cell_type": "code",
      "source": [
        "a = np.array([[4, 7, 4, 5, 9],\n",
        "            [2, 5, 0, 7, 7],\n",
        "            [1, 9, 0, 8, 2]])"
      ],
      "metadata": {
        "id": "Qrf8Hw2tUTeV"
      },
      "execution_count": null,
      "outputs": []
    },
    {
      "cell_type": "code",
      "source": [
        "a[0:1]"
      ],
      "metadata": {
        "id": "Yw61z4OnUiaM"
      },
      "execution_count": null,
      "outputs": []
    },
    {
      "cell_type": "code",
      "source": [
        "a"
      ],
      "metadata": {
        "id": "bFmRFeHVUpoH"
      },
      "execution_count": null,
      "outputs": []
    },
    {
      "cell_type": "code",
      "source": [
        "a[1]"
      ],
      "metadata": {
        "id": "AhEzm0TuUtD4"
      },
      "execution_count": null,
      "outputs": []
    },
    {
      "cell_type": "code",
      "source": [
        "a[:2, :3]"
      ],
      "metadata": {
        "id": "1YTqBaKfVquT"
      },
      "execution_count": null,
      "outputs": []
    },
    {
      "cell_type": "code",
      "source": [
        "np.arange(0,10, 2)"
      ],
      "metadata": {
        "id": "V5JT6QYCV-Py"
      },
      "execution_count": null,
      "outputs": []
    },
    {
      "cell_type": "code",
      "source": [
        "np.arange(0,10)\n",
        ""
      ],
      "metadata": {
        "id": "raVKbLItWQJy"
      },
      "execution_count": null,
      "outputs": []
    },
    {
      "cell_type": "markdown",
      "source": [
        "# VERİ MANİPÜLASYONU 201\n",
        "\n",
        "\n",
        "## *PANDAS\n",
        "\n",
        "Panel Data'nın kısaltması\n"
      ],
      "metadata": {
        "id": "CsZZFGuFW2Gd"
      }
    },
    {
      "cell_type": "markdown",
      "source": [
        "### *PANDAS SERİLERİ"
      ],
      "metadata": {
        "id": "yyopbzfn7Bcw"
      }
    },
    {
      "cell_type": "code",
      "source": [
        "import pandas as pd"
      ],
      "metadata": {
        "id": "kv3bU93YLaea"
      },
      "execution_count": null,
      "outputs": []
    },
    {
      "cell_type": "code",
      "source": [
        "#seri oluşturma\n",
        "\n",
        "seri = pd.Series([1,2,3,4,5])\n",
        "\n",
        "#pandas, değerleri indexleri ile beraber tutar, indeksler veri yapısının içerisinde tutulur"
      ],
      "metadata": {
        "id": "XknpxfJWXAIX"
      },
      "execution_count": null,
      "outputs": []
    },
    {
      "cell_type": "code",
      "source": [
        "seri.axes #index bilgileri\n",
        "seri.dtype\n",
        "seri.size\n",
        "seri.ndim #boyut bilgisi\n",
        "seri.values #vektör olarak erişim sağlar\n",
        "\n",
        "seri.head() #ilk 5 gözlem\n",
        "seri.head(50) #ilk 50 gözlem\n",
        "seri.tail #elemanları sondan gösterir"
      ],
      "metadata": {
        "id": "i8JFc3G9L93a"
      },
      "execution_count": null,
      "outputs": []
    },
    {
      "cell_type": "code",
      "source": [
        "#index isimlendirmesi\n",
        "\n",
        "pd.Series([33,55,66,44,66], index = [1,2,3,4,5])\n",
        "\n",
        "#bu index isimlendirmesi string değerler olarak da yapılandırılabilir\n",
        "#bu hali sözlük yapısına benzer\n",
        "seri = pd.Series([33,55,66,44,66], index = [\"a\",\"b\",\"c\",\"d\",\"e\"])\n",
        "seri[\"a\":\"c\"]"
      ],
      "metadata": {
        "id": "3DNyiY98MoMB"
      },
      "execution_count": null,
      "outputs": []
    },
    {
      "cell_type": "code",
      "source": [
        "#sözlük üzerinden liste oluşturmak\n",
        "\n",
        "sozluk = {\"reg\":10, \"log\":11, \"cart\":12}\n",
        "seri = pd.Series(sozluk)\n",
        "\n",
        "#seri = pd.Series({\"reg\":10, \"log\":11, \"cart\":12})"
      ],
      "metadata": {
        "id": "rpWaxEUpPX-t"
      },
      "execution_count": null,
      "outputs": []
    },
    {
      "cell_type": "code",
      "source": [
        "pd.concat([seri,seri])"
      ],
      "metadata": {
        "id": "DhQinrhDPpff"
      },
      "execution_count": null,
      "outputs": []
    },
    {
      "cell_type": "code",
      "source": [
        "#eleman işlemleri\n",
        "\n",
        "a = np.array([1,2,3,4,5])\n",
        "seri = pd.Series(a)"
      ],
      "metadata": {
        "id": "hqtOOYOmQQ3k"
      },
      "execution_count": null,
      "outputs": []
    },
    {
      "cell_type": "code",
      "source": [
        "seri[0]\n",
        "seri[0:3]\n",
        "\n",
        "seri = pd.Series([121,200,150,90], index=[\"reg\",\"log\",\"cart\",\"rf\"])\n",
        "seri.index\n",
        "seri.keys\n",
        "list(seri.items())\n",
        "seri.values"
      ],
      "metadata": {
        "id": "Bo9coPiWQkYK"
      },
      "execution_count": null,
      "outputs": []
    },
    {
      "cell_type": "code",
      "source": [
        "#eleman sorgulama işlemleri\n",
        "\n",
        "\"reg\" in seri"
      ],
      "metadata": {
        "id": "_j2kJD3bRrBW"
      },
      "execution_count": null,
      "outputs": []
    },
    {
      "cell_type": "code",
      "source": [
        "seri[\"reg\"]"
      ],
      "metadata": {
        "id": "B_28z-PAR0l6"
      },
      "execution_count": null,
      "outputs": []
    },
    {
      "cell_type": "code",
      "source": [
        "#fancy eleman\n",
        "seri[[\"rf\",\"reg\"]]"
      ],
      "metadata": {
        "id": "JVA3nNP6R3yT"
      },
      "execution_count": null,
      "outputs": []
    },
    {
      "cell_type": "code",
      "source": [
        "seri[\"reg\"] = 130"
      ],
      "metadata": {
        "id": "shfuopTVR-p1"
      },
      "execution_count": null,
      "outputs": []
    },
    {
      "cell_type": "code",
      "source": [
        "seri[\"reg\":\"log\"]"
      ],
      "metadata": {
        "id": "tKTZzsV3SKeT"
      },
      "execution_count": null,
      "outputs": []
    },
    {
      "cell_type": "markdown",
      "source": [
        "### *PANDAS DATAFRAME\n",
        "\n",
        "excel veri yapısına benzer\n",
        "\n",
        "numpy teorik yapılar için\n",
        "\n",
        "pandas analitik, daha uygulamaya uygun, zaten arkaplanda numpy kullanıyor"
      ],
      "metadata": {
        "id": "u0sha_ZQSz8u"
      }
    },
    {
      "cell_type": "code",
      "source": [
        "l = [1,2,39,67,80]\n",
        "pd.DataFrame(l, columns = [\"degisken_ismi\"])"
      ],
      "metadata": {
        "collapsed": true,
        "id": "s2Obx3NxSXuK"
      },
      "execution_count": null,
      "outputs": []
    },
    {
      "cell_type": "code",
      "source": [
        "m = np.arange(1,10).reshape((3,3)) #üçe üçlük bir array\n",
        "\n",
        "pd.DataFrame(m, columns = [\"bir\",\"iki\",\"uc\"])"
      ],
      "metadata": {
        "id": "JMAY-GnITYpX"
      },
      "execution_count": null,
      "outputs": []
    },
    {
      "cell_type": "code",
      "source": [
        "#dataframe (df) isimlendirme\n",
        "df = pd.DataFrame(m, columns = [\"bir\",\"iki\",\"uc\"] )\n",
        "df.head()\n",
        "df.columns\n",
        "df.columns = (\"deg1\",\"deg2\",\"deg3\")\n",
        "\n",
        "type(df)\n",
        "df.axes\n",
        "df.shape\n",
        "df.ndim\n",
        "df.size\n",
        "df.values\n",
        "type(df.values)\n",
        "df.tail()"
      ],
      "metadata": {
        "id": "ABZKgwrvTnLC"
      },
      "execution_count": null,
      "outputs": []
    },
    {
      "cell_type": "code",
      "source": [
        "a = np.array([1,2,3,4,5])\n",
        "pd.DataFrame(a,columns=[\"deg1\"])"
      ],
      "metadata": {
        "id": "86nT1LJrWC85"
      },
      "execution_count": null,
      "outputs": []
    },
    {
      "cell_type": "code",
      "source": [
        "#eleman işlemleri\n",
        "\n",
        "s1 = np.random.randint(10, size=5)\n",
        "s2 = np.random.randint(10, size=5)\n",
        "s3 = np.random.randint(10, size=5)\n",
        "\n",
        "sozluk = {\"var1\":s1, \"var2\":s2, \"var3\":s3}\n",
        "\n",
        "df = pd.DataFrame(sozluk) #sözlükten dataframe oluşturma\n",
        "\n",
        "df[0:1]\n",
        "df.index\n",
        "df.index = [\"a\", \"b\", \"c\", \"d\", \"e\"] #yeniden indeks atama\n",
        "df[\"c\":\"e\"]\n",
        "\n",
        "df.drop(\"a\", axis = 0) #a satırı silinir, fakat bu işlem kalıcı değildir, atama gerekir\n",
        "# ya da\n",
        "df.drop(\"a\", axis = 0, inplace = True)\n",
        "\n",
        "#fancy ile silme işlemi\n",
        "l = [\"c\", \"e\"]\n",
        "df.drop(l, axis = 0)\n",
        "#axis = 0 satırda işlem yapılması demek\n",
        "\n",
        "\"var1\" in df  #var1 df içerisinde var mı sorgusu\n",
        "\n",
        "l = [\"var1\", \"var4\", \"var2\"]\n",
        "\n",
        "#index bazında sorgulama yapıyoruz hala\n",
        "for i in l:\n",
        "  print(i in df)\n",
        "\n",
        "df[\"var4\"] = df[\"var1\"] / df[\"var2\"] #var4 daha frame içinde bulunmadığı için yeni değişken olarak eklenir\n",
        "\n",
        "df.drop(\"var4\", axis = 1)\n",
        "#axis = 1 sütunu siler\n",
        "\n",
        "df.drop(\"var4\", axis = 1, inplace = True)\n",
        "\n",
        "df.drop(l, axis = 1)\n"
      ],
      "metadata": {
        "collapsed": true,
        "id": "nu5Cm0mMc_6_"
      },
      "execution_count": null,
      "outputs": []
    },
    {
      "cell_type": "code",
      "source": [
        "import pandas\n",
        "import numpy"
      ],
      "metadata": {
        "id": "G3gPtagGSQey"
      },
      "execution_count": null,
      "outputs": []
    },
    {
      "cell_type": "code",
      "source": [
        "#gözlem ve değişken seçimi\n",
        "\n",
        "m = numpy.random.randint(1,30,size = (10,3))\n",
        "df = pandas.DataFrame(m, columns = [\"var1\", \"var2\", \"var3\"])\n",
        "\n",
        "#loc tanımlandığı şekli ile seçim yapmak için kullanılır\n",
        "df.loc[0:3] #3 dahil\n",
        "\n",
        "#iloc: alışık olduğumuz indeksleme mantığı ile seçim yapar\n",
        "df.iloc[0:3] #3 dahil değil\n",
        "\n",
        "df.iloc[:3,:2]\n",
        "df.loc[0:3, \"var3\"]\n",
        "\n",
        "#satırlarla ilgili mutlak bir değer işaretlemesi yapacaksak loc kullanılmalı (indeks ismi olacaksa)\n",
        "#değişken adı lazım değilse iloc kullanılabilir\n"
      ],
      "metadata": {
        "id": "pKMgdNNnXCUq"
      },
      "execution_count": null,
      "outputs": []
    },
    {
      "cell_type": "code",
      "source": [
        "df[\"var1\"]\n",
        "df[0:2][[\"var1\",\"var2\"]]"
      ],
      "metadata": {
        "id": "aDmWApgnQ3xb"
      },
      "execution_count": null,
      "outputs": []
    },
    {
      "cell_type": "code",
      "source": [
        "df.var1"
      ],
      "metadata": {
        "id": "4FZzXzwownJL"
      },
      "execution_count": null,
      "outputs": []
    },
    {
      "cell_type": "code",
      "source": [
        "df[df.var1>15]\n",
        "df[(df.var1>15) & (df.var1 < 5)]\n",
        "df.loc[(df.var1>15),[\"var1\",\"var2\"]]\n",
        "df.loc[(df.var1>15)][[\"var1\",\"var2\"]]\n",
        "df[(df.var1>15)][\"var1\"]"
      ],
      "metadata": {
        "id": "0nKw-1TmTjKm"
      },
      "execution_count": null,
      "outputs": []
    },
    {
      "cell_type": "code",
      "source": [
        "#birleştirme (join) işlemleri\n",
        "df1 = pandas.DataFrame(m, columns = [\"var1\", \"var2\", \"var3\"])\n",
        "df2 = df1 + 99\n",
        "\n",
        "pd.concat([df1,df2]) #indekste sorun olur\n",
        "pd.concat([df1,df2], ignore_index = True)\n",
        "pd.concat([df1,df2], ignore_index = True, join = \"inner\") #kesişim dışındaki değişkenleri atar\n",
        "pd.concat([df1,df2], ignore_index = True, join_axes = [df1.columns])"
      ],
      "metadata": {
        "id": "gsmcMeEMx88U"
      },
      "execution_count": null,
      "outputs": []
    },
    {
      "cell_type": "code",
      "source": [
        "#ileri birleştirme işlemleri\n",
        "\n",
        "#birebir birleştirme\n",
        "\n",
        "df1  = pd.DataFrame({'calisanlar': ['ali', 'veli', 'ayse', 'fatma'],\n",
        "                     'group': ['muhasebe','muhendislik', 'muhendislik', 'ik']})\n",
        "\n",
        "df2 = pd.DataFrame({'calisanlar': ['ali', 'veli', 'ayse', 'fatma'],\n",
        "                     'ilk_giris': [2010, 2009, 2014, 2019]})"
      ],
      "metadata": {
        "id": "gUXY29zM081H"
      },
      "execution_count": null,
      "outputs": []
    },
    {
      "cell_type": "code",
      "source": [
        "type(df2)"
      ],
      "metadata": {
        "id": "cR3ghTrv1yEG"
      },
      "execution_count": null,
      "outputs": []
    },
    {
      "cell_type": "code",
      "source": [
        "df2.dtypes"
      ],
      "metadata": {
        "id": "Ycaqz2kH2fgX"
      },
      "execution_count": null,
      "outputs": []
    },
    {
      "cell_type": "code",
      "source": [
        "#birebir birleştirme\n",
        "pd.merge(df1, df2)\n",
        "pd.merge(df1, df2, on = \"calisanlar\")\n",
        "\n",
        "#many to one\n",
        "\n",
        "df3 = pd.merge(df1, df2)\n",
        "df4 = pd.DataFrame({'group': ['muhasebe', 'muhendislik', 'ik'],\n",
        "                    'mudur': ['caner', 'mustafa', 'berkcan']})\n",
        "\n",
        "pd.merge(df3,df4)\n",
        "\n",
        "#many to many\n",
        "\n",
        "df5 = pd.DataFrame({'group': ['muhasebe','muhasebe', 'muhendislik', 'muhendislik','ik','ik'],\n",
        "                    'yetenekler': ['matematik', 'excel', 'kodlama','linux', 'excel', 'yonetim']})\n",
        "\n",
        "pd.merge(df1,df5)\n"
      ],
      "metadata": {
        "id": "hYb-W35A4IBc"
      },
      "execution_count": null,
      "outputs": []
    },
    {
      "cell_type": "markdown",
      "source": [
        "### *GRUPLAMA VE TOPLULAŞTIRMA İŞLEMLERİ\n",
        "(aggregation and grouping)"
      ],
      "metadata": {
        "id": "4nswji1X634D"
      }
    },
    {
      "cell_type": "code",
      "source": [
        "import seaborn as sns"
      ],
      "metadata": {
        "id": "K7DcNekn-5k3"
      },
      "execution_count": null,
      "outputs": []
    },
    {
      "cell_type": "code",
      "source": [
        "?sns.load_dataset"
      ],
      "metadata": {
        "id": "ygjQI6D0D28J"
      },
      "execution_count": null,
      "outputs": []
    },
    {
      "cell_type": "code",
      "source": [
        "df = sns.load_dataset(\"planets\")"
      ],
      "metadata": {
        "id": "TSwhjZLXBUVH"
      },
      "execution_count": null,
      "outputs": []
    },
    {
      "cell_type": "code",
      "source": [
        "df"
      ],
      "metadata": {
        "id": "PQ2ACNRBBkTz"
      },
      "execution_count": null,
      "outputs": []
    },
    {
      "cell_type": "code",
      "source": [
        "#toplulaştırma işlemleri\n",
        "\n",
        "count()\n",
        "first()\n",
        "last()\n",
        "mean()\n",
        "median()\n",
        "min()\n",
        "max()\n",
        "std()\n",
        "var() #varyans\n",
        "sum()"
      ],
      "metadata": {
        "id": "vPWBjWOo7gMz"
      },
      "execution_count": null,
      "outputs": []
    },
    {
      "cell_type": "code",
      "source": [
        "df.head()"
      ],
      "metadata": {
        "id": "PBno6NWyBg5h"
      },
      "execution_count": null,
      "outputs": []
    },
    {
      "cell_type": "code",
      "source": [
        "df.shape"
      ],
      "metadata": {
        "id": "JoTNB7qnByb-"
      },
      "execution_count": null,
      "outputs": []
    },
    {
      "cell_type": "code",
      "source": [
        "df.mean()\n",
        "df[\"mass\"].mean()"
      ],
      "metadata": {
        "id": "Y2V7PmPS-4fW"
      },
      "execution_count": null,
      "outputs": []
    },
    {
      "cell_type": "code",
      "source": [
        "df.describe() #tüm değişkenler betimsel olarak görüntülenir, betimsel istatistikler\n",
        "df.describe().T #transpozu alınır\n",
        "df.dropna().describe().T #eksik değerler kaldırıp istatistikler görüntülenir"
      ],
      "metadata": {
        "id": "gTGLgkRCBkQS"
      },
      "execution_count": null,
      "outputs": []
    },
    {
      "cell_type": "code",
      "source": [
        "#gruplama işlemleri"
      ],
      "metadata": {
        "id": "lm57oY6uB_iq"
      },
      "execution_count": null,
      "outputs": []
    },
    {
      "cell_type": "code",
      "source": [
        "import pandas as pd\n",
        "import numpy as np\n",
        "df = pd.DataFrame({'gruplar': ['a', 'b', 'c', 'a','b','c'],\n",
        "                   'veri': [10,12,13,19,14,145],}, columns = ['gruplar', 'veri'])"
      ],
      "metadata": {
        "id": "uV673ZU7Bu0R"
      },
      "execution_count": null,
      "outputs": []
    },
    {
      "cell_type": "code",
      "source": [
        "df"
      ],
      "metadata": {
        "id": "RBRPLtfKC4QT"
      },
      "execution_count": null,
      "outputs": []
    },
    {
      "cell_type": "code",
      "source": [
        "df.groupby(\"gruplar\")"
      ],
      "metadata": {
        "id": "GsFY3taSDHrC"
      },
      "execution_count": null,
      "outputs": []
    },
    {
      "cell_type": "code",
      "source": [
        "df.groupby(\"gruplar\").mean()"
      ],
      "metadata": {
        "id": "PlFKf0rDDso0"
      },
      "execution_count": null,
      "outputs": []
    },
    {
      "cell_type": "code",
      "source": [
        "df.groupby(\"gruplar\").sum()"
      ],
      "metadata": {
        "id": "GJnwuJrgDy9N"
      },
      "execution_count": null,
      "outputs": []
    },
    {
      "cell_type": "code",
      "source": [
        "df = sns.load_dataset(\"planets\")\n",
        "df.groupby(\"method\")"
      ],
      "metadata": {
        "id": "FuBj0QGnD3DI"
      },
      "execution_count": null,
      "outputs": []
    },
    {
      "cell_type": "code",
      "source": [
        "df.groupby(\"method\")[\"orbital_period\"].mean()"
      ],
      "metadata": {
        "id": "xBGOho8_EAa9"
      },
      "execution_count": null,
      "outputs": []
    },
    {
      "cell_type": "code",
      "source": [
        "df.groupby(\"method\")[\"orbital_period\"].describe().T"
      ],
      "metadata": {
        "id": "s_IVkI3CFA59"
      },
      "execution_count": null,
      "outputs": []
    },
    {
      "cell_type": "code",
      "source": [
        "#ileri toplulaştırma işlemleri\n",
        "\n",
        "df = pd.DataFrame({'gruplar': ['a', 'b', 'c', 'a','b','c'],\n",
        "                   'degisken1': [108,29,613,219,14,145],\n",
        "                   'degisken2': [67,45,678,23,78,54],},\n",
        "                   columns = ['gruplar', 'degisken1', 'degisken2'])"
      ],
      "metadata": {
        "id": "NjPJMC-sJO8f"
      },
      "execution_count": null,
      "outputs": []
    },
    {
      "cell_type": "code",
      "source": [
        "df"
      ],
      "metadata": {
        "id": "KhHGopRXJrz3"
      },
      "execution_count": null,
      "outputs": []
    },
    {
      "cell_type": "code",
      "source": [
        "#aggregate\n",
        "#kendim özellikle belirli istatistikleri istiyorum\n",
        "\n",
        "#istatistik listesi = l\n",
        "l = [\"min\", np.median, max]\n",
        "#fonksiyon pandas içerisindeyse tırnak içinde ya da tırnaksız olarak aggregate onu algılar\n",
        "#pandas içerisinde olmayan fonksiyonları hangi kütüphaneden alacağımızı belirtmeliyiz\n",
        "df.groupby(\"gruplar\").mean()\n",
        "df.groupby(\"gruplar\").aggregate(l)"
      ],
      "metadata": {
        "id": "71gJxWd8J0O9"
      },
      "execution_count": null,
      "outputs": []
    },
    {
      "cell_type": "code",
      "source": [
        "#değişken1 için min değer, değişken2 için max değer hesaplamak istersek:\n",
        "df.groupby(\"gruplar\").aggregate({\"degisken1\": \"min\", \"degisken2\":\"max\"})"
      ],
      "metadata": {
        "id": "QC950dL5J-Eu"
      },
      "execution_count": null,
      "outputs": []
    },
    {
      "cell_type": "code",
      "source": [
        "#filter\n",
        "#kendi kişisel fonksiyonlarımızı bir filtreleme aracı olarak değişkenlerin üzerinde sorgulama yapmak için kullanacağız\n",
        "\n",
        "def filter_func(x):\n",
        "  return x[\"degisken1\"].std() > 9\n",
        "\n",
        "df.groupby(\"gruplar\").filter(filter_func)\n",
        "#değişken1'e göre standart sapmalar hesaplandı ve 9'dan büyük olanlar döndürüldü\n",
        "#bu işlemler grup bazında yapıldı"
      ],
      "metadata": {
        "id": "khOmbqwKLlmP"
      },
      "execution_count": null,
      "outputs": []
    },
    {
      "cell_type": "code",
      "source": [
        "#transform\n",
        "#değişken üzerinde değişiklik yapmak istiyoruz ve bu dönüşüm işlemini kendimiz ayarlamak istiyoruz\n",
        "\n",
        "#numerik işlem yapacağımız için kategorikten yani gruplardan kurtuluyoruz:\n",
        "df_a = df.iloc[:,1:3]\n",
        "df_a.transform(lambda x: x-x.mean())\n",
        "\n",
        "#transform vektörel çalışan bir fonksiyon, her bir değişkeni sırayla gezer\n",
        "\n",
        "df_a.transform(lambda x: (x-x.mean()/ x.std()))"
      ],
      "metadata": {
        "id": "f5ldl9xPNJFN"
      },
      "execution_count": null,
      "outputs": []
    },
    {
      "cell_type": "code",
      "source": [
        "#apply\n",
        "#aggregation yani toplulaştırma için kullanılan fonksiyonlardan biri\n",
        "\n",
        "df.apply(np.sum) #sütun bazında toplama gerçekleştirdi\n",
        "\n",
        "df.groupby(\"gruplar\").apply(np.sum)"
      ],
      "metadata": {
        "id": "MMdm9crcMVaI"
      },
      "execution_count": null,
      "outputs": []
    },
    {
      "cell_type": "code",
      "source": [
        "#pivot tablolar\n",
        "#groupby'ın çok yönlü versiyonu gibi düşünülebilir\n",
        "\n",
        "import pandas as pd\n",
        "import seaborn as sns\n",
        "titanic = sns.load_dataset(\"titanic\")\n",
        "titanic.head()"
      ],
      "metadata": {
        "id": "H79Q_a3NUj2R"
      },
      "execution_count": null,
      "outputs": []
    },
    {
      "cell_type": "code",
      "source": [
        "#survived değişkenini inceleyeceğiz\n",
        "titanic.groupby(\"sex\")[\"survived\"].mean()\n",
        "titanic.groupby(\"sex\")[[\"survived\"]].mean()\n",
        "#cinsiyete göre gruplama yap\n",
        "#sürekli değişken survived\n",
        "#cinsiyete göre gruplama işlemi yapıp survived'a göre ortalama aldı"
      ],
      "metadata": {
        "id": "2t36ZZKiVCCU"
      },
      "execution_count": null,
      "outputs": []
    },
    {
      "cell_type": "code",
      "source": [
        "titanic.groupby([\"sex\", \"class\"])[[\"survived\"]].aggregate(\"mean\").unstack()\n",
        "#x ekseninde class kategorik değişkeninde gruplama yapıldı\n",
        "#y ekseninde sex kategorik değişkenine göre gruplama yapıldı\n",
        "#değişken seçildi\n",
        "#bu değişken üzerinde mean uygulandı\n",
        "#unstack - stack tablo şeklini değiştiriyor"
      ],
      "metadata": {
        "id": "nDpiWwIiWHa0"
      },
      "execution_count": null,
      "outputs": []
    },
    {
      "cell_type": "code",
      "source": [
        "#titanic.groupby([\"sex\", \"class\"])[[\"survived\"]].aggregate(\"mean\").unstack()\n",
        "titanic.pivot_table(\"survived\", index = \"sex\", columns = \"class\")"
      ],
      "metadata": {
        "id": "smnHcTeyXkHc"
      },
      "execution_count": null,
      "outputs": []
    },
    {
      "cell_type": "code",
      "source": [
        "#age değişkenini kategorikleştirip bunun sınıflarını pivot tabloya boyut olarak ekleme\n",
        "\n",
        "age = pd.cut(titanic[\"age\"], [0,18,90]) #veri seti 3 sınıfa bölündü\n",
        "#bu sınıfları boyut olarak pivot table'a ekliyoruz\n",
        "titanic.pivot_table(\"survived\", [\"sex\", age], \"class\")"
      ],
      "metadata": {
        "id": "9uzvWtLHX2Cp"
      },
      "execution_count": null,
      "outputs": []
    },
    {
      "cell_type": "code",
      "source": [
        "#dış kaynaklı veri okuma\n",
        "\n",
        "pd.read_csv(\"/home/user/../ornekcsv.csv\", sep = \";\") #bu csv dosyasında veri ayrımı ; ile yapılmış\n",
        "pd.read_csv(\"/home/user/../duzmetin.txt\")\n",
        "#csv ile genelde excel dosyası okunduğu için default ayarları ona göre yapılmış\n",
        "pd.read_excel(\"/home/user/../ornekx.xlsx\")\n"
      ],
      "metadata": {
        "id": "HXZl17L5Y8VY"
      },
      "execution_count": null,
      "outputs": []
    },
    {
      "cell_type": "markdown",
      "source": [
        ":..:..:..:..:..:..:..:..:..:..:..:..:..:..:..:..:..:..:..:..:..:..:..:..:..:..:..:..:..:..:..:..:..:..:..:..:..:..:..:..:..:..:..:..:..:..:..:..:..:..:..:..:..:..:..:..:..:..:..:..:..:..:..:..:..:.."
      ],
      "metadata": {
        "id": "RPuTIS8rbmTB"
      }
    },
    {
      "cell_type": "markdown",
      "source": [
        "### *BONUS - PROBLEM ÇÖZME VE DOKÜMAN OKUMA KÜLTÜRÜ\n"
      ],
      "metadata": {
        "id": "DnLNT7CKbnn6"
      }
    },
    {
      "cell_type": "markdown",
      "source": [
        "%95 yapısal problemler ve veri ön işleme\n",
        "%5 modelleme vb. işlemler"
      ],
      "metadata": {
        "id": "mzTTlnJXcLaS"
      }
    },
    {
      "cell_type": "markdown",
      "source": [
        "medyan --> seriyi ortadan işkiye ayıran veri"
      ],
      "metadata": {
        "id": "CbuP87okgbOM"
      }
    }
  ]
}